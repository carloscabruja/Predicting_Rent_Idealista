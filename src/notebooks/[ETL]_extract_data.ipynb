{
 "cells": [
  {
   "cell_type": "markdown",
   "metadata": {},
   "source": [
    "# Extract the Data"
   ]
  },
  {
   "cell_type": "code",
   "execution_count": null,
   "metadata": {},
   "outputs": [],
   "source": [
    "# Required libraries\n",
    "import os\n",
    "from dotenv import load_dotenv, find_dotenv\n",
    "import base64\n",
    "import urllib\n",
    "import requests as rq\n",
    "import json\n",
    "import pandas as pd\n",
    "import time"
   ]
  },
  {
   "cell_type": "code",
   "execution_count": null,
   "metadata": {},
   "outputs": [],
   "source": [
    "# Get authentication token\n",
    "def get_oauth_token():\n",
    "\n",
    "    url = \"https://api.idealista.com/oauth/token\"\n",
    "\n",
    "    load_dotenv(find_dotenv('creds.env')) # Load .env file\n",
    "    apikey = os.environ.get(\"API_KEY\")\n",
    "    secret = os.environ.get(\"SECRET\")\n",
    "    apikey_secret = apikey + ':' + secret\n",
    "\n",
    "    auth = str(base64.b64encode(bytes(apikey_secret, 'utf-8')))[2:][:-1] # Get base64 encoded string\n",
    "\n",
    "    headers = {'Authorization' : 'Basic ' + auth,'Content-Type': 'application/x-www-form-urlencoded;charset=UTF-8'}\n",
    "    params = urllib.parse.urlencode({'grant_type':'client_credentials'}) #,'scope':'read'\n",
    "    content = rq.post(url,headers = headers, params=params) # Get response\n",
    "    bearer_token = json.loads(content.text)['access_token'] # Get access token\n",
    "\n",
    "    return bearer_token"
   ]
  },
  {
   "cell_type": "code",
   "execution_count": null,
   "metadata": {},
   "outputs": [],
   "source": [
    "# Get list of properties\n",
    "def search_api(token, params):\n",
    "    url = \"https://api.idealista.com/3.5/es/search\"\n",
    "\n",
    "    headers = {'Content-Type': 'Content-Type: multipart/form-data;', 'Authorization' : 'Bearer ' + token} \n",
    "    content = rq.post(url, headers=headers, params=params) # Get response\n",
    "    \n",
    "    print(content)\n",
    "    return content"
   ]
  },
  {
   "cell_type": "markdown",
   "metadata": {},
   "source": [
    "**Note**: *locationId* goes from 0-EU-ES-01 to 0-EU-ES-56 for Spain.\n",
    "\n",
    "**REQUIREMENTS**:\n",
    "- country = ['es', 'it', 'pt']\n",
    "- operation = ['sale', 'rent']\n",
    "- propertyType = ['homes', 'offices', 'premises', 'garages', 'bedrooms']\n",
    "- you must specify a center + distance or locationId in each request"
   ]
  },
  {
   "cell_type": "code",
   "execution_count": null,
   "metadata": {},
   "outputs": [],
   "source": [
    "params = {\n",
    "    \"country\" : 'es',\n",
    "    \"operation\" : \"rent\",\n",
    "    \"propertyType\" : \"homes\",\n",
    "    \"locationId\" : \"0-EU-ES-46\",\n",
    "    \"maxItems\" : 50,\n",
    "}\n",
    "\n",
    "# Test connection\n",
    "token = get_oauth_token()\n",
    "result = search_api(token, params)"
   ]
  },
  {
   "cell_type": "code",
   "execution_count": null,
   "metadata": {},
   "outputs": [],
   "source": [
    "# Print result\n",
    "result.text"
   ]
  },
  {
   "cell_type": "code",
   "execution_count": null,
   "metadata": {},
   "outputs": [],
   "source": [
    "# get totalPages\n",
    "totalPages = json.loads(result.text)['totalPages']\n",
    "print(totalPages)"
   ]
  },
  {
   "cell_type": "code",
   "execution_count": null,
   "metadata": {},
   "outputs": [],
   "source": [
    "# get actual page\n",
    "actualPage = json.loads(result.text)['actualPage']\n",
    "print(actualPage)"
   ]
  },
  {
   "cell_type": "code",
   "execution_count": null,
   "metadata": {},
   "outputs": [],
   "source": [
    "df_tot = pd.DataFrame(json.loads(result.text)[\"elementList\"])\n",
    "df_tot"
   ]
  },
  {
   "cell_type": "code",
   "execution_count": null,
   "metadata": {},
   "outputs": [],
   "source": [
    "for i in range(2, totalPages):\n",
    "    try:\n",
    "        params['numPage'] = i\n",
    "        result = search_api(token, params)\n",
    "        df = pd.DataFrame(json.loads(result.text)[\"elementList\"])\n",
    "        df_tot = pd.concat([df_tot, df])\n",
    "        time.sleep(5)\n",
    "    except Exception as e:\n",
    "        print(e, \"Page: \", i)"
   ]
  },
  {
   "cell_type": "code",
   "execution_count": null,
   "metadata": {},
   "outputs": [],
   "source": [
    "df_tot.reset_index(drop=True, inplace=True)"
   ]
  },
  {
   "cell_type": "code",
   "execution_count": null,
   "metadata": {},
   "outputs": [],
   "source": [
    "# ¿All the propertyCode are unique?\n",
    "df_tot['propertyCode'].nunique()"
   ]
  },
  {
   "cell_type": "code",
   "execution_count": null,
   "metadata": {},
   "outputs": [],
   "source": [
    "df_tot"
   ]
  }
 ],
 "metadata": {
  "kernelspec": {
   "display_name": "Python 3.9.5 ('the_bridge_22')",
   "language": "python",
   "name": "python3"
  },
  "language_info": {
   "codemirror_mode": {
    "name": "ipython",
    "version": 3
   },
   "file_extension": ".py",
   "mimetype": "text/x-python",
   "name": "python",
   "nbconvert_exporter": "python",
   "pygments_lexer": "ipython3",
   "version": "3.9.5"
  },
  "orig_nbformat": 4,
  "vscode": {
   "interpreter": {
    "hash": "4888b20ad2e0830b2b3289a265d49b7b8db6bb4be38e5df533fd94a4ada827bb"
   }
  }
 },
 "nbformat": 4,
 "nbformat_minor": 2
}
